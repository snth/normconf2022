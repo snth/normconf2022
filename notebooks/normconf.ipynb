{
 "cells": [
  {
   "attachments": {},
   "cell_type": "markdown",
   "metadata": {},
   "source": [
    "# PRQL\n",
    "\n",
    "## Generating SQL\n",
    "\n",
    "You can do this in your browser, go to [https://prql-lang.org/playground/]() now!\n",
    "\n",
    "## Python"
   ]
  },
  {
   "cell_type": "code",
   "execution_count": 34,
   "metadata": {},
   "outputs": [],
   "source": [
    "#!pip install prql-python"
   ]
  },
  {
   "cell_type": "code",
   "execution_count": 30,
   "metadata": {},
   "outputs": [
    {
     "name": "stdout",
     "output_type": "stream",
     "text": [
      "SELECT\n",
      "  dept_id,\n",
      "  gender,\n",
      "  AVG(salary) AS avg_salary\n",
      "FROM\n",
      "  employees\n",
      "  JOIN salaries ON employees.emp_id = salaries.emp_id\n",
      "GROUP BY\n",
      "  dept_id,\n",
      "  gender\n",
      "ORDER BY\n",
      "  avg_salary DESC\n",
      "LIMIT\n",
      "  5\n"
     ]
    }
   ],
   "source": [
    "import prql_python as prql\n",
    "\n",
    "prql_query = \"\"\"\n",
    "    from employees\n",
    "    join salaries [==emp_id]\n",
    "    group [dept_id, gender] (\n",
    "        aggregate [\n",
    "            avg_salary = average salary\n",
    "        ]\n",
    "    )\n",
    "\"\"\"\n",
    "\n",
    "sql = prql.to_sql(prql_query)\n",
    "print(sql)"
   ]
  },
  {
   "cell_type": "code",
   "execution_count": 33,
   "metadata": {},
   "outputs": [
    {
     "name": "stdout",
     "output_type": "stream",
     "text": [
      "WITH table_1 AS (\n",
      "  SELECT\n",
      "    employees.*,\n",
      "    salaries.*,\n",
      "    ROW_NUMBER() OVER (\n",
      "      PARTITION BY dept_id\n",
      "      ORDER BY\n",
      "        salary DESC\n",
      "    ) AS _expr_0\n",
      "  FROM\n",
      "    employees\n",
      "    JOIN salaries ON employees.emp_id = salaries.emp_id\n",
      ")\n",
      "SELECT\n",
      "  *,\n",
      "  *\n",
      "FROM\n",
      "  table_1\n",
      "WHERE\n",
      "  _expr_0 <= 5\n"
     ]
    }
   ],
   "source": [
    "# Say we want the top 5 salaries by department instead\n",
    "prql_query = \"\"\"\n",
    "    from employees\n",
    "    join salaries [==emp_id]\n",
    "    group [dept_id] (\n",
    "        sort [-salary]\n",
    "        take 5\n",
    "    )\n",
    "\"\"\"\n",
    "\n",
    "sql = prql.to_sql(prql_query)\n",
    "print(sql)"
   ]
  },
  {
   "attachments": {},
   "cell_type": "markdown",
   "metadata": {},
   "source": [
    "## PyPRQL and Jupyter Magics"
   ]
  },
  {
   "cell_type": "code",
   "execution_count": 3,
   "metadata": {},
   "outputs": [],
   "source": [
    "#!pip install pyprql"
   ]
  },
  {
   "cell_type": "code",
   "execution_count": 4,
   "metadata": {},
   "outputs": [],
   "source": [
    "%load_ext pyprql.magic"
   ]
  },
  {
   "cell_type": "code",
   "execution_count": 35,
   "metadata": {},
   "outputs": [
    {
     "name": "stdout",
     "output_type": "stream",
     "text": [
      "Done.\n",
      "   customer_id first_name    last_name  \\\n",
      "0            1       Luís    Gonçalves   \n",
      "1            2     Leonie       Köhler   \n",
      "2            3   François     Tremblay   \n",
      "3            4      Bjørn       Hansen   \n",
      "4            5  František  Wichterlová   \n",
      "\n",
      "                                            company  \\\n",
      "0  Embraer - Empresa Brasileira de Aeronáutica S.A.   \n",
      "1                                              None   \n",
      "2                                              None   \n",
      "3                                              None   \n",
      "4                                  JetBrains s.r.o.   \n",
      "\n",
      "                           address                 city state         country  \\\n",
      "0  Av. Brigadeiro Faria Lima, 2170  São José dos Campos    SP          Brazil   \n",
      "1          Theodor-Heuss-Straße 34            Stuttgart  None         Germany   \n",
      "2                1498 rue Bélanger             Montréal    QC          Canada   \n",
      "3                 Ullevålsveien 14                 Oslo  None          Norway   \n",
      "4                    Klanova 9/506               Prague  None  Czech Republic   \n",
      "\n",
      "  postal_code               phone                 fax  \\\n",
      "0   12227-000  +55 (12) 3923-5555  +55 (12) 3923-5566   \n",
      "1       70174    +49 0711 2842222                None   \n",
      "2     H2G 1A7   +1 (514) 721-4711                None   \n",
      "3        0171     +47 22 44 22 22                None   \n",
      "4       14700    +420 2 4172 5555    +420 2 4172 5555   \n",
      "\n",
      "                      email  support_rep_id  \n",
      "0      luisg@embraer.com.br               3  \n",
      "1     leonekohler@surfeu.de               5  \n",
      "2       ftremblay@gmail.com               3  \n",
      "3     bjorn.hansen@yahoo.no               4  \n",
      "4  frantisekw@jetbrains.com               4  \n"
     ]
    }
   ],
   "source": [
    "%%prql duckdb:///:memory:\n",
    "from `data/customers.csv`\n",
    "take 5"
   ]
  },
  {
   "attachments": {},
   "cell_type": "markdown",
   "metadata": {},
   "source": [
    "## Shell"
   ]
  },
  {
   "cell_type": "code",
   "execution_count": 8,
   "metadata": {},
   "outputs": [],
   "source": [
    "#!wget https://github.com/prql/prql-query/releases/download/v0.0.14/pq-x86_64-unknown-linux-gnu.tar.gz \\\n",
    "#    && tar xvzf pq-x86_64-unknown-linux-gnu.tar.gz \\\n",
    "#    && rm pq-x86_64-unknown-linux-gnu.tar.gz"
   ]
  },
  {
   "cell_type": "code",
   "execution_count": 9,
   "metadata": {},
   "outputs": [
    {
     "name": "stdout",
     "output_type": "stream",
     "text": [
      "+------------+-------------+-------------------------------+-------------------------+--------------+---------------+-----------------+---------------------+-------+\n",
      "| invoice_id | customer_id | invoice_date                  | billing_address         | billing_city | billing_state | billing_country | billing_postal_code | total |\n",
      "+------------+-------------+-------------------------------+-------------------------+--------------+---------------+-----------------+---------------------+-------+\n",
      "| 1          | 2           | 2009-01-01T00:00:00.000000000 | Theodor-Heuss-Straße 34 | Stuttgart    |               | Germany         | 70174               | 1.98  |\n",
      "| 2          | 4           | 2009-01-02T00:00:00.000000000 | Ullevålsveien 14        | Oslo         |               | Norway          | 0171                | 3.96  |\n",
      "| 3          | 8           | 2009-01-03T00:00:00.000000000 | Grétrystraat 63         | Brussels     |               | Belgium         | 1000                | 5.94  |\n",
      "| 4          | 14          | 2009-01-06T00:00:00.000000000 | 8210 111 ST NW          | Edmonton     | AB            | Canada          | T6G 2C7             | 8.91  |\n",
      "| 5          | 23          | 2009-01-11T00:00:00.000000000 | 69 Salem Street         | Boston       | MA            | USA             | 2113                | 13.86 |\n",
      "+------------+-------------+-------------------------------+-------------------------+--------------+---------------+-----------------+---------------------+-------+\n"
     ]
    }
   ],
   "source": [
    "!./pq --from data/invoices.csv \"take 5\""
   ]
  },
  {
   "cell_type": "code",
   "execution_count": 52,
   "metadata": {},
   "outputs": [],
   "source": [
    "# Say we now want to get the names of the top 5 customers\n",
    "# interactive"
   ]
  },
  {
   "cell_type": "code",
   "execution_count": 10,
   "metadata": {},
   "outputs": [
    {
     "name": "stdout",
     "output_type": "stream",
     "text": [
      "+--------------------+--------------------+\n",
      "| full_name          | customer_total     |\n",
      "+--------------------+--------------------+\n",
      "| Helena Holý        | 49.620000000000005 |\n",
      "| Ladislav Kovács    | 45.62              |\n",
      "| Luis Rojas         | 46.62              |\n",
      "| Richard Cunningham | 47.620000000000005 |\n",
      "| Hugh O'Reilly      | 45.62              |\n",
      "+--------------------+--------------------+\n"
     ]
    }
   ],
   "source": [
    "# Say we now want to get the names of the top 5 customers\n",
    "!./pq --from i=data/invoices.csv --from c=data/customers.csv \\\n",
    "    \"from i | group [customer_id] (aggregate [customer_total = sum total]) | sort [-customer_total] | take 5 | join c [customer_id] | select [full_name=f'{first_name} {last_name}', customer_total]\""
   ]
  },
  {
   "attachments": {},
   "cell_type": "markdown",
   "metadata": {},
   "source": [
    "## R"
   ]
  },
  {
   "cell_type": "code",
   "execution_count": 11,
   "metadata": {},
   "outputs": [],
   "source": [
    "#!sudo apt update && sudo apt upgrade -y && sudo apt install -y r-base\n",
    "#!sudo R -q -e \"install.packages('dplyr', dependencies = TRUE)\"\n",
    "#!sudo R -q -e \"install.packages('tidyquery', dependencies = TRUE)\""
   ]
  },
  {
   "cell_type": "code",
   "execution_count": 12,
   "metadata": {},
   "outputs": [],
   "source": [
    "# prqlr needs to be installed into a user directory because cargo isn't available under sudo\n",
    "#!mkdir -p ~/.local/R_libs\n",
    "#!R -q -e 'install.packages(\"prqlr\", repos = \"https://eitsupi.r-universe.dev\", lib=\"~/.local/R_libs/\")'"
   ]
  },
  {
   "cell_type": "code",
   "execution_count": 13,
   "metadata": {},
   "outputs": [],
   "source": [
    "#!pip install rpy2"
   ]
  },
  {
   "cell_type": "code",
   "execution_count": 14,
   "metadata": {},
   "outputs": [],
   "source": [
    "%load_ext rpy2.ipython"
   ]
  },
  {
   "cell_type": "code",
   "execution_count": 27,
   "metadata": {},
   "outputs": [
    {
     "name": "stdout",
     "output_type": "stream",
     "text": [
      "SELECT\n",
      "  cyl,\n",
      "  mpg\n",
      "FROM\n",
      "  mtcars\n",
      "WHERE\n",
      "  cyl > 6\n",
      "ORDER BY\n",
      "  mpg DESC"
     ]
    }
   ],
   "source": [
    "%%R\n",
    "library(prqlr, lib.loc=\"~/.local/R_libs/\")\n",
    "\"\n",
    "from mtcars\n",
    "filter cyl > 6\n",
    "sort [-mpg]\n",
    "select [cyl, mpg]\n",
    "\" |> prql_to_sql() |> cat()"
   ]
  },
  {
   "cell_type": "code",
   "execution_count": 26,
   "metadata": {},
   "outputs": [
    {
     "name": "stdout",
     "output_type": "stream",
     "text": [
      "                    cyl  mpg\n",
      "Pontiac Firebird      8 19.2\n",
      "Hornet Sportabout     8 18.7\n",
      "Merc 450SL            8 17.3\n",
      "Merc 450SE            8 16.4\n",
      "Ford Pantera L        8 15.8\n",
      "Dodge Challenger      8 15.5\n",
      "Merc 450SLC           8 15.2\n",
      "AMC Javelin           8 15.2\n",
      "Maserati Bora         8 15.0\n",
      "Chrysler Imperial     8 14.7\n",
      "Duster 360            8 14.3\n",
      "Camaro Z28            8 13.3\n",
      "Cadillac Fleetwood    8 10.4\n",
      "Lincoln Continental   8 10.4\n"
     ]
    }
   ],
   "source": [
    "%%R\n",
    "# Thanks to the tidyquery package you can query dataframes directly\n",
    "library(\"tidyquery\")\n",
    "\"\n",
    "from mtcars\n",
    "filter cyl > 6\n",
    "sort [-mpg]\n",
    "select [cyl, mpg]\n",
    "\" |> prql_to_sql() |> query()"
   ]
  },
  {
   "cell_type": "code",
   "execution_count": 25,
   "metadata": {},
   "outputs": [
    {
     "name": "stdout",
     "output_type": "stream",
     "text": [
      "mtcars %>%\n",
      "  filter(cyl > 6) %>%\n",
      "  select(cyl, mpg) %>%\n",
      "  arrange(dplyr::desc(mpg))"
     ]
    }
   ],
   "source": [
    "%%R\n",
    "# or even convert PRQL queries to dplyr queries\n",
    "library(\"tidyquery\")\n",
    "\"\n",
    "from mtcars\n",
    "filter cyl > 6\n",
    "select [cyl, mpg]\n",
    "sort [-mpg]\n",
    "\" |>\n",
    "  prql_to_sql() |>\n",
    "  tidyquery::show_dplyr()"
   ]
  },
  {
   "attachments": {},
   "cell_type": "markdown",
   "metadata": {},
   "source": [
    "Compare this with the PRQL query:\n",
    "\n",
    "```\n",
    "from mtcars\n",
    "filter cyl > 6\n",
    "select [cyl, mpg]\n",
    "sort [-mpg]\n",
    "```"
   ]
  },
  {
   "attachments": {},
   "cell_type": "markdown",
   "metadata": {},
   "source": [
    "So PRQL is very similar to dplyr, but IMHO it's better because it can do away with some of the host language (R) punctuation because it is its own language!"
   ]
  },
  {
   "cell_type": "markdown",
   "metadata": {},
   "source": []
  }
 ],
 "metadata": {
  "kernelspec": {
   "display_name": "Python 3 (ipykernel)",
   "language": "python",
   "name": "python3"
  },
  "language_info": {
   "codemirror_mode": {
    "name": "ipython",
    "version": 3
   },
   "file_extension": ".py",
   "mimetype": "text/x-python",
   "name": "python",
   "nbconvert_exporter": "python",
   "pygments_lexer": "ipython3",
   "version": "3.10.4"
  },
  "orig_nbformat": 4,
  "vscode": {
   "interpreter": {
    "hash": "3ad933181bd8a04b432d3370b9dc3b0662ad032c4dfaa4e4f1596c548f763858"
   }
  }
 },
 "nbformat": 4,
 "nbformat_minor": 2
}
